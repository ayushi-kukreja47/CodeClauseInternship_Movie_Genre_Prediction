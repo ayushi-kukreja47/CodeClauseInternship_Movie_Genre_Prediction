{
 "cells": [
  {
   "cell_type": "code",
   "execution_count": 23,
   "id": "62d8ce03",
   "metadata": {},
   "outputs": [],
   "source": [
    "import numpy as np\n",
    "import pandas as pd\n",
    "import seaborn as sns\n",
    "import matplotlib.pyplot as plt\n",
    "import warnings\n",
    "warnings.filterwarnings('ignore')"
   ]
  },
  {
   "cell_type": "code",
   "execution_count": 24,
   "id": "ff3ab096",
   "metadata": {},
   "outputs": [
    {
     "name": "stderr",
     "output_type": "stream",
     "text": [
      "[nltk_data] Downloading package stopwords to\n",
      "[nltk_data]     C:\\Users\\HP\\AppData\\Roaming\\nltk_data...\n",
      "[nltk_data]   Package stopwords is already up-to-date!\n"
     ]
    }
   ],
   "source": [
    "import re\n",
    "import nltk\n",
    "import string\n",
    "import json\n",
    "from nltk.corpus import stopwords\n",
    "from nltk.stem import LancasterStemmer\n",
    "from sklearn.feature_extraction.text import TfidfVectorizer\n",
    "from sklearn.model_selection import train_test_split\n",
    "from sklearn.naive_bayes import MultinomialNB\n",
    "from sklearn.metrics import accuracy_score, classification_report\n",
    "\n",
    "import nltk\n",
    "nltk.download('stopwords')\n",
    "import re\n",
    "from nltk.corpus import stopwords\n",
    "from nltk.stem import PorterStemmer"
   ]
  },
  {
   "cell_type": "code",
   "execution_count": 4,
   "id": "446ca818",
   "metadata": {},
   "outputs": [
    {
     "data": {
      "text/html": [
       "<div>\n",
       "<style scoped>\n",
       "    .dataframe tbody tr th:only-of-type {\n",
       "        vertical-align: middle;\n",
       "    }\n",
       "\n",
       "    .dataframe tbody tr th {\n",
       "        vertical-align: top;\n",
       "    }\n",
       "\n",
       "    .dataframe thead th {\n",
       "        text-align: right;\n",
       "    }\n",
       "</style>\n",
       "<table border=\"1\" class=\"dataframe\">\n",
       "  <thead>\n",
       "    <tr style=\"text-align: right;\">\n",
       "      <th></th>\n",
       "      <th>id</th>\n",
       "      <th>movie_name</th>\n",
       "      <th>synopsis</th>\n",
       "      <th>genre</th>\n",
       "    </tr>\n",
       "  </thead>\n",
       "  <tbody>\n",
       "    <tr>\n",
       "      <th>0</th>\n",
       "      <td>44978</td>\n",
       "      <td>Super Me</td>\n",
       "      <td>A young scriptwriter starts bringing valuable ...</td>\n",
       "      <td>fantasy</td>\n",
       "    </tr>\n",
       "    <tr>\n",
       "      <th>1</th>\n",
       "      <td>50185</td>\n",
       "      <td>Entity Project</td>\n",
       "      <td>A director and her friends renting a haunted h...</td>\n",
       "      <td>horror</td>\n",
       "    </tr>\n",
       "    <tr>\n",
       "      <th>2</th>\n",
       "      <td>34131</td>\n",
       "      <td>Behavioral Family Therapy for Serious Psychiat...</td>\n",
       "      <td>This is an educational video for families and ...</td>\n",
       "      <td>family</td>\n",
       "    </tr>\n",
       "    <tr>\n",
       "      <th>3</th>\n",
       "      <td>78522</td>\n",
       "      <td>Blood Glacier</td>\n",
       "      <td>Scientists working in the Austrian Alps discov...</td>\n",
       "      <td>scifi</td>\n",
       "    </tr>\n",
       "    <tr>\n",
       "      <th>4</th>\n",
       "      <td>2206</td>\n",
       "      <td>Apat na anino</td>\n",
       "      <td>Buy Day - Four Men Widely - Apart in Life - By...</td>\n",
       "      <td>action</td>\n",
       "    </tr>\n",
       "  </tbody>\n",
       "</table>\n",
       "</div>"
      ],
      "text/plain": [
       "      id                                         movie_name  \\\n",
       "0  44978                                           Super Me   \n",
       "1  50185                                     Entity Project   \n",
       "2  34131  Behavioral Family Therapy for Serious Psychiat...   \n",
       "3  78522                                      Blood Glacier   \n",
       "4   2206                                      Apat na anino   \n",
       "\n",
       "                                            synopsis    genre  \n",
       "0  A young scriptwriter starts bringing valuable ...  fantasy  \n",
       "1  A director and her friends renting a haunted h...   horror  \n",
       "2  This is an educational video for families and ...   family  \n",
       "3  Scientists working in the Austrian Alps discov...    scifi  \n",
       "4  Buy Day - Four Men Widely - Apart in Life - By...   action  "
      ]
     },
     "execution_count": 4,
     "metadata": {},
     "output_type": "execute_result"
    }
   ],
   "source": [
    "train = pd.read_csv('train.csv')\n",
    "train.head()"
   ]
  },
  {
   "cell_type": "code",
   "execution_count": 5,
   "id": "c452fe21",
   "metadata": {},
   "outputs": [
    {
     "name": "stdout",
     "output_type": "stream",
     "text": [
      "<class 'pandas.core.frame.DataFrame'>\n",
      "RangeIndex: 54000 entries, 0 to 53999\n",
      "Data columns (total 4 columns):\n",
      " #   Column      Non-Null Count  Dtype \n",
      "---  ------      --------------  ----- \n",
      " 0   id          54000 non-null  int64 \n",
      " 1   movie_name  54000 non-null  object\n",
      " 2   synopsis    54000 non-null  object\n",
      " 3   genre       54000 non-null  object\n",
      "dtypes: int64(1), object(3)\n",
      "memory usage: 1.6+ MB\n"
     ]
    }
   ],
   "source": [
    "train.info()"
   ]
  },
  {
   "cell_type": "code",
   "execution_count": 8,
   "id": "70673878",
   "metadata": {},
   "outputs": [
    {
     "data": {
      "text/html": [
       "<div>\n",
       "<style scoped>\n",
       "    .dataframe tbody tr th:only-of-type {\n",
       "        vertical-align: middle;\n",
       "    }\n",
       "\n",
       "    .dataframe tbody tr th {\n",
       "        vertical-align: top;\n",
       "    }\n",
       "\n",
       "    .dataframe thead th {\n",
       "        text-align: right;\n",
       "    }\n",
       "</style>\n",
       "<table border=\"1\" class=\"dataframe\">\n",
       "  <thead>\n",
       "    <tr style=\"text-align: right;\">\n",
       "      <th></th>\n",
       "      <th>id</th>\n",
       "      <th>movie_name</th>\n",
       "      <th>synopsis</th>\n",
       "      <th>genre</th>\n",
       "    </tr>\n",
       "  </thead>\n",
       "  <tbody>\n",
       "    <tr>\n",
       "      <th>35995</th>\n",
       "      <td>73156</td>\n",
       "      <td>Mysterious Doctor Satan</td>\n",
       "      <td>A mad scientist plots the domination of Americ...</td>\n",
       "      <td>action</td>\n",
       "    </tr>\n",
       "    <tr>\n",
       "      <th>35996</th>\n",
       "      <td>21242</td>\n",
       "      <td>Blondes at Work</td>\n",
       "      <td>Steve promises his captain not to favor Torchy...</td>\n",
       "      <td>action</td>\n",
       "    </tr>\n",
       "    <tr>\n",
       "      <th>35997</th>\n",
       "      <td>70135</td>\n",
       "      <td>The Hurricane</td>\n",
       "      <td>A Polynesian sailor unjustly imprisoned after ...</td>\n",
       "      <td>action</td>\n",
       "    </tr>\n",
       "    <tr>\n",
       "      <th>35998</th>\n",
       "      <td>85987</td>\n",
       "      <td>Malayankunju</td>\n",
       "      <td>Anikkuttan is an ill-tempered electronics tech...</td>\n",
       "      <td>action</td>\n",
       "    </tr>\n",
       "    <tr>\n",
       "      <th>35999</th>\n",
       "      <td>7302</td>\n",
       "      <td>Mr. Nice Guy</td>\n",
       "      <td>A Chinese chef accidentally gets involved with...</td>\n",
       "      <td>action</td>\n",
       "    </tr>\n",
       "  </tbody>\n",
       "</table>\n",
       "</div>"
      ],
      "text/plain": [
       "          id               movie_name  \\\n",
       "35995  73156  Mysterious Doctor Satan   \n",
       "35996  21242          Blondes at Work   \n",
       "35997  70135            The Hurricane   \n",
       "35998  85987             Malayankunju   \n",
       "35999   7302             Mr. Nice Guy   \n",
       "\n",
       "                                                synopsis   genre  \n",
       "35995  A mad scientist plots the domination of Americ...  action  \n",
       "35996  Steve promises his captain not to favor Torchy...  action  \n",
       "35997  A Polynesian sailor unjustly imprisoned after ...  action  \n",
       "35998  Anikkuttan is an ill-tempered electronics tech...  action  \n",
       "35999  A Chinese chef accidentally gets involved with...  action  "
      ]
     },
     "execution_count": 8,
     "metadata": {},
     "output_type": "execute_result"
    }
   ],
   "source": [
    "test = pd.read_csv('test.csv')\n",
    "test.tail()"
   ]
  },
  {
   "cell_type": "code",
   "execution_count": 9,
   "id": "1661f377",
   "metadata": {},
   "outputs": [
    {
     "data": {
      "text/html": [
       "<div>\n",
       "<style scoped>\n",
       "    .dataframe tbody tr th:only-of-type {\n",
       "        vertical-align: middle;\n",
       "    }\n",
       "\n",
       "    .dataframe tbody tr th {\n",
       "        vertical-align: top;\n",
       "    }\n",
       "\n",
       "    .dataframe thead th {\n",
       "        text-align: right;\n",
       "    }\n",
       "</style>\n",
       "<table border=\"1\" class=\"dataframe\">\n",
       "  <thead>\n",
       "    <tr style=\"text-align: right;\">\n",
       "      <th></th>\n",
       "      <th>id</th>\n",
       "      <th>movie_name</th>\n",
       "      <th>synopsis</th>\n",
       "    </tr>\n",
       "  </thead>\n",
       "  <tbody>\n",
       "    <tr>\n",
       "      <th>0</th>\n",
       "      <td>16863</td>\n",
       "      <td>A Death Sentence</td>\n",
       "      <td>12 y.o. Ida's dad'll die without a DKK1,500,00...</td>\n",
       "    </tr>\n",
       "    <tr>\n",
       "      <th>1</th>\n",
       "      <td>48456</td>\n",
       "      <td>Intermedio</td>\n",
       "      <td>A group of four teenage friends become trapped...</td>\n",
       "    </tr>\n",
       "    <tr>\n",
       "      <th>2</th>\n",
       "      <td>41383</td>\n",
       "      <td>30 Chua Phai Tet</td>\n",
       "      <td>A guy left his home for 12 years till he came ...</td>\n",
       "    </tr>\n",
       "    <tr>\n",
       "      <th>3</th>\n",
       "      <td>84007</td>\n",
       "      <td>Paranoiac</td>\n",
       "      <td>A man long believed dead returns to the family...</td>\n",
       "    </tr>\n",
       "    <tr>\n",
       "      <th>4</th>\n",
       "      <td>40269</td>\n",
       "      <td>Ordinary Happiness</td>\n",
       "      <td>After a deadly accident, Paolo comes back on E...</td>\n",
       "    </tr>\n",
       "    <tr>\n",
       "      <th>...</th>\n",
       "      <td>...</td>\n",
       "      <td>...</td>\n",
       "      <td>...</td>\n",
       "    </tr>\n",
       "    <tr>\n",
       "      <th>35995</th>\n",
       "      <td>73156</td>\n",
       "      <td>Mysterious Doctor Satan</td>\n",
       "      <td>A mad scientist plots the domination of Americ...</td>\n",
       "    </tr>\n",
       "    <tr>\n",
       "      <th>35996</th>\n",
       "      <td>21242</td>\n",
       "      <td>Blondes at Work</td>\n",
       "      <td>Steve promises his captain not to favor Torchy...</td>\n",
       "    </tr>\n",
       "    <tr>\n",
       "      <th>35997</th>\n",
       "      <td>70135</td>\n",
       "      <td>The Hurricane</td>\n",
       "      <td>A Polynesian sailor unjustly imprisoned after ...</td>\n",
       "    </tr>\n",
       "    <tr>\n",
       "      <th>35998</th>\n",
       "      <td>85987</td>\n",
       "      <td>Malayankunju</td>\n",
       "      <td>Anikkuttan is an ill-tempered electronics tech...</td>\n",
       "    </tr>\n",
       "    <tr>\n",
       "      <th>35999</th>\n",
       "      <td>7302</td>\n",
       "      <td>Mr. Nice Guy</td>\n",
       "      <td>A Chinese chef accidentally gets involved with...</td>\n",
       "    </tr>\n",
       "  </tbody>\n",
       "</table>\n",
       "<p>36000 rows × 3 columns</p>\n",
       "</div>"
      ],
      "text/plain": [
       "          id               movie_name  \\\n",
       "0      16863         A Death Sentence   \n",
       "1      48456               Intermedio   \n",
       "2      41383         30 Chua Phai Tet   \n",
       "3      84007                Paranoiac   \n",
       "4      40269       Ordinary Happiness   \n",
       "...      ...                      ...   \n",
       "35995  73156  Mysterious Doctor Satan   \n",
       "35996  21242          Blondes at Work   \n",
       "35997  70135            The Hurricane   \n",
       "35998  85987             Malayankunju   \n",
       "35999   7302             Mr. Nice Guy   \n",
       "\n",
       "                                                synopsis  \n",
       "0      12 y.o. Ida's dad'll die without a DKK1,500,00...  \n",
       "1      A group of four teenage friends become trapped...  \n",
       "2      A guy left his home for 12 years till he came ...  \n",
       "3      A man long believed dead returns to the family...  \n",
       "4      After a deadly accident, Paolo comes back on E...  \n",
       "...                                                  ...  \n",
       "35995  A mad scientist plots the domination of Americ...  \n",
       "35996  Steve promises his captain not to favor Torchy...  \n",
       "35997  A Polynesian sailor unjustly imprisoned after ...  \n",
       "35998  Anikkuttan is an ill-tempered electronics tech...  \n",
       "35999  A Chinese chef accidentally gets involved with...  \n",
       "\n",
       "[36000 rows x 3 columns]"
      ]
     },
     "execution_count": 9,
     "metadata": {},
     "output_type": "execute_result"
    }
   ],
   "source": [
    "test.drop('genre',axis=1)"
   ]
  },
  {
   "cell_type": "code",
   "execution_count": 10,
   "id": "b57b7f4f",
   "metadata": {},
   "outputs": [
    {
     "data": {
      "text/plain": [
       "fantasy      5400\n",
       "horror       5400\n",
       "family       5400\n",
       "scifi        5400\n",
       "action       5400\n",
       "crime        5400\n",
       "adventure    5400\n",
       "mystery      5400\n",
       "romance      5400\n",
       "thriller     5400\n",
       "Name: genre, dtype: int64"
      ]
     },
     "execution_count": 10,
     "metadata": {},
     "output_type": "execute_result"
    }
   ],
   "source": [
    "train['genre'].value_counts()"
   ]
  },
  {
   "cell_type": "code",
   "execution_count": 11,
   "id": "b0170258",
   "metadata": {},
   "outputs": [
    {
     "name": "stdout",
     "output_type": "stream",
     "text": [
      "Text Cleaned\n"
     ]
    }
   ],
   "source": [
    "def clean_text(text):\n",
    "    text = re.sub(\"\\'\", \"\", text) \n",
    "    text = re.sub(\"[^a-zA-Z]\",\" \",text) \n",
    "    text = ' '.join(text.split()) \n",
    "    text = text.lower() \n",
    "    return text\n",
    "print(\"Text Cleaned\")"
   ]
  },
  {
   "cell_type": "code",
   "execution_count": 12,
   "id": "27fe5236",
   "metadata": {},
   "outputs": [],
   "source": [
    "train['plot'] = train['synopsis'].apply(lambda x: clean_text(x))"
   ]
  },
  {
   "cell_type": "code",
   "execution_count": 13,
   "id": "d3d9782a",
   "metadata": {},
   "outputs": [],
   "source": [
    "test['plot'] = test['synopsis'].apply(lambda x: clean_text(x))"
   ]
  },
  {
   "cell_type": "code",
   "execution_count": 14,
   "id": "61804b69",
   "metadata": {},
   "outputs": [
    {
     "name": "stdout",
     "output_type": "stream",
     "text": [
      "MOST FREQUENT WORDS IN THE PLOT\n"
     ]
    },
    {
     "data": {
      "image/png": "[encoded data removed]",
      "text/plain": [
       "<Figure size 864x1080 with 1 Axes>"
      ]
     },
     "metadata": {
      "needs_background": "light"
     },
     "output_type": "display_data"
    }
   ],
   "source": [
    "print(\"MOST FREQUENT WORDS IN THE PLOT\")\n",
    "def freq_words(x, terms = 30): \n",
    "  all_words = ' '.join([text for text in x]) \n",
    "  all_words = all_words.split() \n",
    "  fdist = nltk.FreqDist(all_words) \n",
    "  words_df = pd.DataFrame({'word':list(fdist.keys()), 'count':list(fdist.values())})  \n",
    "  d = words_df.nlargest(columns=\"count\", n = terms) \n",
    "  plt.figure(figsize=(12,15)) \n",
    "  ax = sns.barplot(data=d, x= \"count\", y = \"word\") \n",
    "  ax.set(ylabel = 'Word') \n",
    "  plt.show() \n",
    "freq_words(train['plot'], 100)"
   ]
  },
  {
   "cell_type": "code",
   "execution_count": 25,
   "id": "3e1606c2",
   "metadata": {},
   "outputs": [],
   "source": [
    "from nltk.corpus import stopwords\n",
    "stop_words = set(stopwords.words('english'))\n",
    "\n",
    "def remove_stopwords(text):\n",
    "    no_stopword_text = [w for w in text.split() if not w in stop_words]\n",
    "    return ' '.join(no_stopword_text)\n",
    "\n",
    "train['plot'] = train['plot'].apply(lambda x: remove_stopwords(x))\n"
   ]
  },
  {
   "cell_type": "code",
   "execution_count": 16,
   "id": "972ad98c",
   "metadata": {},
   "outputs": [
    {
     "name": "stdout",
     "output_type": "stream",
     "text": [
      "FREQUENT WORDS AFTER REMOVING STOP WORDS\n"
     ]
    },
    {
     "data": {
      "image/png": "[encoded data removed]",
      "text/plain": [
       "<Figure size 864x1080 with 1 Axes>"
      ]
     },
     "metadata": {
      "needs_background": "light"
     },
     "output_type": "display_data"
    }
   ],
   "source": [
    "print(\"FREQUENT WORDS AFTER REMOVING STOP WORDS\")\n",
    "freq_words(train['plot'], 100)"
   ]
  },
  {
   "cell_type": "code",
   "execution_count": 17,
   "id": "e9ec3ed3",
   "metadata": {},
   "outputs": [],
   "source": [
    "tfidf_vectorizer = TfidfVectorizer()\n",
    "X_train = tfidf_vectorizer.fit_transform(train['plot'])\n",
    "X_test = tfidf_vectorizer.transform(test['plot'])"
   ]
  },
  {
   "cell_type": "code",
   "execution_count": 18,
   "id": "99175048",
   "metadata": {},
   "outputs": [
    {
     "name": "stdout",
     "output_type": "stream",
     "text": [
      "Validation Accuracy: 0.3510185185185185\n",
      "              precision    recall  f1-score   support\n",
      "\n",
      "      action       0.29      0.24      0.27      1094\n",
      "   adventure       0.28      0.21      0.24      1067\n",
      "       crime       0.36      0.40      0.38      1134\n",
      "      family       0.40      0.43      0.41      1049\n",
      "     fantasy       0.31      0.28      0.30      1057\n",
      "      horror       0.39      0.46      0.42      1116\n",
      "     mystery       0.28      0.29      0.28      1074\n",
      "     romance       0.49      0.56      0.52      1075\n",
      "       scifi       0.39      0.46      0.42      1077\n",
      "    thriller       0.22      0.18      0.20      1057\n",
      "\n",
      "    accuracy                           0.35     10800\n",
      "   macro avg       0.34      0.35      0.34     10800\n",
      "weighted avg       0.34      0.35      0.34     10800\n",
      "\n"
     ]
    }
   ],
   "source": [
    "X = X_train\n",
    "y = train['genre']\n",
    "X_train, X_val, y_train, y_val = train_test_split(X, y, test_size=0.2, random_state=42)\n",
    "\n",
    "classifier = MultinomialNB()\n",
    "classifier.fit(X_train, y_train)\n",
    "\n",
    "y_pred = classifier.predict(X_val)\n",
    "\n",
    "accuracy = accuracy_score(y_val, y_pred)\n",
    "print(\"Validation Accuracy:\", accuracy)\n",
    "print(classification_report(y_val, y_pred))"
   ]
  },
  {
   "cell_type": "code",
   "execution_count": 19,
   "id": "95d36791",
   "metadata": {},
   "outputs": [],
   "source": [
    "X_test_predictions = classifier.predict(X_test)\n",
    "test['Predicted Genre'] = X_test_predictions"
   ]
  },
  {
   "cell_type": "code",
   "execution_count": 20,
   "id": "e7a09a23",
   "metadata": {},
   "outputs": [],
   "source": [
    "# Save the data to the csv file\n",
    "test.to_csv('predicted genres.csv', index=False)"
   ]
  },
  {
   "cell_type": "code",
   "execution_count": 21,
   "id": "df02899e",
   "metadata": {},
   "outputs": [
    {
     "data": {
      "text/html": [
       "<div>\n",
       "<style scoped>\n",
       "    .dataframe tbody tr th:only-of-type {\n",
       "        vertical-align: middle;\n",
       "    }\n",
       "\n",
       "    .dataframe tbody tr th {\n",
       "        vertical-align: top;\n",
       "    }\n",
       "\n",
       "    .dataframe thead th {\n",
       "        text-align: right;\n",
       "    }\n",
       "</style>\n",
       "<table border=\"1\" class=\"dataframe\">\n",
       "  <thead>\n",
       "    <tr style=\"text-align: right;\">\n",
       "      <th></th>\n",
       "      <th>id</th>\n",
       "      <th>movie_name</th>\n",
       "      <th>synopsis</th>\n",
       "      <th>genre</th>\n",
       "      <th>plot</th>\n",
       "      <th>Predicted Genre</th>\n",
       "    </tr>\n",
       "  </thead>\n",
       "  <tbody>\n",
       "    <tr>\n",
       "      <th>0</th>\n",
       "      <td>16863</td>\n",
       "      <td>A Death Sentence</td>\n",
       "      <td>12 y.o. Ida's dad'll die without a DKK1,500,00...</td>\n",
       "      <td>action</td>\n",
       "      <td>y o idas dadll die without a dkk operation ida...</td>\n",
       "      <td>crime</td>\n",
       "    </tr>\n",
       "    <tr>\n",
       "      <th>1</th>\n",
       "      <td>48456</td>\n",
       "      <td>Intermedio</td>\n",
       "      <td>A group of four teenage friends become trapped...</td>\n",
       "      <td>action</td>\n",
       "      <td>a group of four teenage friends become trapped...</td>\n",
       "      <td>horror</td>\n",
       "    </tr>\n",
       "    <tr>\n",
       "      <th>2</th>\n",
       "      <td>41383</td>\n",
       "      <td>30 Chua Phai Tet</td>\n",
       "      <td>A guy left his home for 12 years till he came ...</td>\n",
       "      <td>action</td>\n",
       "      <td>a guy left his home for years till he came bac...</td>\n",
       "      <td>scifi</td>\n",
       "    </tr>\n",
       "    <tr>\n",
       "      <th>3</th>\n",
       "      <td>84007</td>\n",
       "      <td>Paranoiac</td>\n",
       "      <td>A man long believed dead returns to the family...</td>\n",
       "      <td>action</td>\n",
       "      <td>a man long believed dead returns to the family...</td>\n",
       "      <td>horror</td>\n",
       "    </tr>\n",
       "    <tr>\n",
       "      <th>4</th>\n",
       "      <td>40269</td>\n",
       "      <td>Ordinary Happiness</td>\n",
       "      <td>After a deadly accident, Paolo comes back on E...</td>\n",
       "      <td>action</td>\n",
       "      <td>after a deadly accident paolo comes back on ea...</td>\n",
       "      <td>fantasy</td>\n",
       "    </tr>\n",
       "    <tr>\n",
       "      <th>...</th>\n",
       "      <td>...</td>\n",
       "      <td>...</td>\n",
       "      <td>...</td>\n",
       "      <td>...</td>\n",
       "      <td>...</td>\n",
       "      <td>...</td>\n",
       "    </tr>\n",
       "    <tr>\n",
       "      <th>35995</th>\n",
       "      <td>73156</td>\n",
       "      <td>Mysterious Doctor Satan</td>\n",
       "      <td>A mad scientist plots the domination of Americ...</td>\n",
       "      <td>action</td>\n",
       "      <td>a mad scientist plots the domination of americ...</td>\n",
       "      <td>scifi</td>\n",
       "    </tr>\n",
       "    <tr>\n",
       "      <th>35996</th>\n",
       "      <td>21242</td>\n",
       "      <td>Blondes at Work</td>\n",
       "      <td>Steve promises his captain not to favor Torchy...</td>\n",
       "      <td>action</td>\n",
       "      <td>steve promises his captain not to favor torchy...</td>\n",
       "      <td>mystery</td>\n",
       "    </tr>\n",
       "    <tr>\n",
       "      <th>35997</th>\n",
       "      <td>70135</td>\n",
       "      <td>The Hurricane</td>\n",
       "      <td>A Polynesian sailor unjustly imprisoned after ...</td>\n",
       "      <td>action</td>\n",
       "      <td>a polynesian sailor unjustly imprisoned after ...</td>\n",
       "      <td>adventure</td>\n",
       "    </tr>\n",
       "    <tr>\n",
       "      <th>35998</th>\n",
       "      <td>85987</td>\n",
       "      <td>Malayankunju</td>\n",
       "      <td>Anikkuttan is an ill-tempered electronics tech...</td>\n",
       "      <td>action</td>\n",
       "      <td>anikkuttan is an ill tempered electronics tech...</td>\n",
       "      <td>thriller</td>\n",
       "    </tr>\n",
       "    <tr>\n",
       "      <th>35999</th>\n",
       "      <td>7302</td>\n",
       "      <td>Mr. Nice Guy</td>\n",
       "      <td>A Chinese chef accidentally gets involved with...</td>\n",
       "      <td>action</td>\n",
       "      <td>a chinese chef accidentally gets involved with...</td>\n",
       "      <td>action</td>\n",
       "    </tr>\n",
       "  </tbody>\n",
       "</table>\n",
       "<p>36000 rows × 6 columns</p>\n",
       "</div>"
      ],
      "text/plain": [
       "          id               movie_name  \\\n",
       "0      16863         A Death Sentence   \n",
       "1      48456               Intermedio   \n",
       "2      41383         30 Chua Phai Tet   \n",
       "3      84007                Paranoiac   \n",
       "4      40269       Ordinary Happiness   \n",
       "...      ...                      ...   \n",
       "35995  73156  Mysterious Doctor Satan   \n",
       "35996  21242          Blondes at Work   \n",
       "35997  70135            The Hurricane   \n",
       "35998  85987             Malayankunju   \n",
       "35999   7302             Mr. Nice Guy   \n",
       "\n",
       "                                                synopsis   genre  \\\n",
       "0      12 y.o. Ida's dad'll die without a DKK1,500,00...  action   \n",
       "1      A group of four teenage friends become trapped...  action   \n",
       "2      A guy left his home for 12 years till he came ...  action   \n",
       "3      A man long believed dead returns to the family...  action   \n",
       "4      After a deadly accident, Paolo comes back on E...  action   \n",
       "...                                                  ...     ...   \n",
       "35995  A mad scientist plots the domination of Americ...  action   \n",
       "35996  Steve promises his captain not to favor Torchy...  action   \n",
       "35997  A Polynesian sailor unjustly imprisoned after ...  action   \n",
       "35998  Anikkuttan is an ill-tempered electronics tech...  action   \n",
       "35999  A Chinese chef accidentally gets involved with...  action   \n",
       "\n",
       "                                                    plot Predicted Genre  \n",
       "0      y o idas dadll die without a dkk operation ida...           crime  \n",
       "1      a group of four teenage friends become trapped...          horror  \n",
       "2      a guy left his home for years till he came bac...           scifi  \n",
       "3      a man long believed dead returns to the family...          horror  \n",
       "4      after a deadly accident paolo comes back on ea...         fantasy  \n",
       "...                                                  ...             ...  \n",
       "35995  a mad scientist plots the domination of americ...           scifi  \n",
       "35996  steve promises his captain not to favor torchy...         mystery  \n",
       "35997  a polynesian sailor unjustly imprisoned after ...       adventure  \n",
       "35998  anikkuttan is an ill tempered electronics tech...        thriller  \n",
       "35999  a chinese chef accidentally gets involved with...          action  \n",
       "\n",
       "[36000 rows x 6 columns]"
      ]
     },
     "execution_count": 21,
     "metadata": {},
     "output_type": "execute_result"
    }
   ],
   "source": [
    "x = pd.read_csv('predicted genres.csv')\n",
    "x"
   ]
  },
  {
   "cell_type": "code",
   "execution_count": null,
   "id": "acf6ee45",
   "metadata": {},
   "outputs": [],
   "source": []
  },
  {
   "cell_type": "code",
   "execution_count": null,
   "id": "334379e5",
   "metadata": {},
   "outputs": [],
   "source": []
  }
 ],
 "metadata": {
  "kernelspec": {
   "display_name": "Python 3 (ipykernel)",
   "language": "python",
   "name": "python3"
  },
  "language_info": {
   "codemirror_mode": {
    "name": "ipython",
    "version": 3
   },
   "file_extension": ".py",
   "mimetype": "text/x-python",
   "name": "python",
   "nbconvert_exporter": "python",
   "pygments_lexer": "ipython3",
   "version": "3.9.12"
  }
 },
 "nbformat": 4,
 "nbformat_minor": 5
}
